{
  "cells": [
    {
      "cell_type": "code",
      "execution_count": 1,
      "metadata": {
        "colab": {
          "base_uri": "https://localhost:8080/"
        },
        "id": "-AoJ54VSs93R",
        "outputId": "582e802d-a8a7-4d71-d784-fe855a2dac72"
      },
      "outputs": [
        {
          "name": "stdout",
          "output_type": "stream",
          "text": [
            "cu121 2.5.1\n"
          ]
        }
      ],
      "source": [
        "import torch\n",
        "\n",
        "def format_pytorch_version(version):\n",
        "  return version.split('+')[0]\n",
        "\n",
        "TORCH_version = torch.__version__\n",
        "TORCH = format_pytorch_version(TORCH_version)\n",
        "\n",
        "def format_cuda_version(version):\n",
        "  return 'cu' + version.replace('.', '')\n",
        "\n",
        "CUDA_version = torch.version.cuda\n",
        "CUDA = format_cuda_version(CUDA_version)\n",
        "print(CUDA, TORCH)"
      ]
    },
    {
      "cell_type": "code",
      "execution_count": 2,
      "metadata": {
        "id": "4IVqMp_Ks_cn"
      },
      "outputs": [],
      "source": [
        "# !gdown 1W90lq3I_5RY-Ff48hjR3QoqBzHFAxOiR\n",
        "# from google.colab import drive\n",
        "# drive.mount('/content/drive')\n",
        "# !mkdir /content/drive/MyDrive/IDSC"
      ]
    },
    {
      "cell_type": "code",
      "execution_count": 3,
      "metadata": {
        "id": "YmtyFjsSOFC7"
      },
      "outputs": [],
      "source": [
        "# !unzip /content/IDSC2025_AnXplore03.zip -d /content/drive/MyDrive/IDSC/"
      ]
    },
    {
      "cell_type": "code",
      "execution_count": 4,
      "metadata": {
        "colab": {
          "base_uri": "https://localhost:8080/"
        },
        "id": "B6K5Bvg8tP2i",
        "outputId": "5d3262b4-1025-4288-ea94-331af8ff5c65"
      },
      "outputs": [
        {
          "name": "stdout",
          "output_type": "stream",
          "text": [
            "Drive already mounted at /content/drive; to attempt to forcibly remount, call drive.mount(\"/content/drive\", force_remount=True).\n",
            "Looking in links: https://data.pyg.org/whl/torch-2.5.1+cu121.html\n",
            "Requirement already satisfied: torch-scatter in /usr/local/lib/python3.11/dist-packages (2.1.2+pt25cu121)\n",
            "Looking in links: https://pytorch-geometric.com/whl/torch-2.5.1+cu121.html\n",
            "Requirement already satisfied: torch-sparse in /usr/local/lib/python3.11/dist-packages (0.6.18+pt25cu121)\n",
            "Requirement already satisfied: scipy in /usr/local/lib/python3.11/dist-packages (from torch-sparse) (1.13.1)\n",
            "Requirement already satisfied: numpy<2.3,>=1.22.4 in /usr/local/lib/python3.11/dist-packages (from scipy->torch-sparse) (1.26.4)\n",
            "Looking in links: https://pytorch-geometric.com/whl/torch-2.5.1+cu121.html\n",
            "Requirement already satisfied: torch-cluster in /usr/local/lib/python3.11/dist-packages (1.6.3+pt25cu121)\n",
            "Requirement already satisfied: scipy in /usr/local/lib/python3.11/dist-packages (from torch-cluster) (1.13.1)\n",
            "Requirement already satisfied: numpy<2.3,>=1.22.4 in /usr/local/lib/python3.11/dist-packages (from scipy->torch-cluster) (1.26.4)\n",
            "Looking in links: https://pytorch-geometric.com/whl/torch-2.5.1+cu121.html\n",
            "Requirement already satisfied: torch-spline-conv in /usr/local/lib/python3.11/dist-packages (1.2.2+pt25cu121)\n",
            "Requirement already satisfied: torch-geometric in /usr/local/lib/python3.11/dist-packages (2.6.1)\n",
            "Requirement already satisfied: aiohttp in /usr/local/lib/python3.11/dist-packages (from torch-geometric) (3.11.11)\n",
            "Requirement already satisfied: fsspec in /usr/local/lib/python3.11/dist-packages (from torch-geometric) (2024.10.0)\n",
            "Requirement already satisfied: jinja2 in /usr/local/lib/python3.11/dist-packages (from torch-geometric) (3.1.5)\n",
            "Requirement already satisfied: numpy in /usr/local/lib/python3.11/dist-packages (from torch-geometric) (1.26.4)\n",
            "Requirement already satisfied: psutil>=5.8.0 in /usr/local/lib/python3.11/dist-packages (from torch-geometric) (5.9.5)\n",
            "Requirement already satisfied: pyparsing in /usr/local/lib/python3.11/dist-packages (from torch-geometric) (3.2.1)\n",
            "Requirement already satisfied: requests in /usr/local/lib/python3.11/dist-packages (from torch-geometric) (2.32.3)\n",
            "Requirement already satisfied: tqdm in /usr/local/lib/python3.11/dist-packages (from torch-geometric) (4.67.1)\n",
            "Requirement already satisfied: aiohappyeyeballs>=2.3.0 in /usr/local/lib/python3.11/dist-packages (from aiohttp->torch-geometric) (2.4.4)\n",
            "Requirement already satisfied: aiosignal>=1.1.2 in /usr/local/lib/python3.11/dist-packages (from aiohttp->torch-geometric) (1.3.2)\n",
            "Requirement already satisfied: attrs>=17.3.0 in /usr/local/lib/python3.11/dist-packages (from aiohttp->torch-geometric) (24.3.0)\n",
            "Requirement already satisfied: frozenlist>=1.1.1 in /usr/local/lib/python3.11/dist-packages (from aiohttp->torch-geometric) (1.5.0)\n",
            "Requirement already satisfied: multidict<7.0,>=4.5 in /usr/local/lib/python3.11/dist-packages (from aiohttp->torch-geometric) (6.1.0)\n",
            "Requirement already satisfied: propcache>=0.2.0 in /usr/local/lib/python3.11/dist-packages (from aiohttp->torch-geometric) (0.2.1)\n",
            "Requirement already satisfied: yarl<2.0,>=1.17.0 in /usr/local/lib/python3.11/dist-packages (from aiohttp->torch-geometric) (1.18.3)\n",
            "Requirement already satisfied: MarkupSafe>=2.0 in /usr/local/lib/python3.11/dist-packages (from jinja2->torch-geometric) (3.0.2)\n",
            "Requirement already satisfied: charset-normalizer<4,>=2 in /usr/local/lib/python3.11/dist-packages (from requests->torch-geometric) (3.4.1)\n",
            "Requirement already satisfied: idna<4,>=2.5 in /usr/local/lib/python3.11/dist-packages (from requests->torch-geometric) (3.10)\n",
            "Requirement already satisfied: urllib3<3,>=1.21.1 in /usr/local/lib/python3.11/dist-packages (from requests->torch-geometric) (2.3.0)\n",
            "Requirement already satisfied: certifi>=2017.4.17 in /usr/local/lib/python3.11/dist-packages (from requests->torch-geometric) (2024.12.14)\n",
            "Requirement already satisfied: loguru==0.7.2 in /usr/local/lib/python3.11/dist-packages (0.7.2)\n",
            "Requirement already satisfied: autoflake==2.3.0 in /usr/local/lib/python3.11/dist-packages (2.3.0)\n",
            "Requirement already satisfied: pyflakes>=3.0.0 in /usr/local/lib/python3.11/dist-packages (from autoflake==2.3.0) (3.2.0)\n",
            "Requirement already satisfied: pytest==8.0.1 in /usr/local/lib/python3.11/dist-packages (8.0.1)\n",
            "Requirement already satisfied: iniconfig in /usr/local/lib/python3.11/dist-packages (from pytest==8.0.1) (2.0.0)\n",
            "Requirement already satisfied: packaging in /usr/local/lib/python3.11/dist-packages (from pytest==8.0.1) (24.2)\n",
            "Requirement already satisfied: pluggy<2.0,>=1.3.0 in /usr/local/lib/python3.11/dist-packages (from pytest==8.0.1) (1.5.0)\n",
            "Requirement already satisfied: meshio==5.3.5 in /usr/local/lib/python3.11/dist-packages (5.3.5)\n",
            "Requirement already satisfied: numpy>=1.20.0 in /usr/local/lib/python3.11/dist-packages (from meshio==5.3.5) (1.26.4)\n",
            "Requirement already satisfied: rich in /usr/local/lib/python3.11/dist-packages (from meshio==5.3.5) (13.9.4)\n",
            "Requirement already satisfied: markdown-it-py>=2.2.0 in /usr/local/lib/python3.11/dist-packages (from rich->meshio==5.3.5) (3.0.0)\n",
            "Requirement already satisfied: pygments<3.0.0,>=2.13.0 in /usr/local/lib/python3.11/dist-packages (from rich->meshio==5.3.5) (2.18.0)\n",
            "Requirement already satisfied: mdurl~=0.1 in /usr/local/lib/python3.11/dist-packages (from markdown-it-py>=2.2.0->rich->meshio==5.3.5) (0.1.2)\n",
            "Requirement already satisfied: h5py==3.10.0 in /usr/local/lib/python3.11/dist-packages (3.10.0)\n",
            "Requirement already satisfied: numpy>=1.17.3 in /usr/local/lib/python3.11/dist-packages (from h5py==3.10.0) (1.26.4)\n"
          ]
        }
      ],
      "source": [
        "from google.colab import drive\n",
        "drive.mount('/content/drive')\n",
        "\n",
        "!pip install torch-scatter -f https://data.pyg.org/whl/torch-{TORCH}+{CUDA}.html\n",
        "!pip install torch-sparse      -f https://pytorch-geometric.com/whl/torch-{TORCH}+{CUDA}.html\n",
        "!pip install torch-cluster     -f https://pytorch-geometric.com/whl/torch-{TORCH}+{CUDA}.html\n",
        "!pip install torch-spline-conv -f https://pytorch-geometric.com/whl/torch-{TORCH}+{CUDA}.html\n",
        "!pip install torch-geometric\n",
        "!pip install loguru==0.7.2\n",
        "!pip install autoflake==2.3.0\n",
        "!pip install pytest==8.0.1\n",
        "!pip install meshio==5.3.5\n",
        "!pip install h5py==3.10.0\n",
        "\n",
        "import os\n",
        "import os.path as osp\n",
        "import shutil\n",
        "from itertools import product\n",
        "import meshio\n",
        "from typing import List\n",
        "from torch_geometric.data import Dataset as BaseDataset\n",
        "from torch_geometric.data import Data\n",
        "import torch\n",
        "import numpy as np\n",
        "from torch_geometric.loader import DataLoader"
      ]
    },
    {
      "cell_type": "code",
      "execution_count": 5,
      "metadata": {
        "id": "n8QpOGI3tSTX"
      },
      "outputs": [],
      "source": []
    },
    {
      "cell_type": "code",
      "execution_count": null,
      "metadata": {
        "colab": {
          "base_uri": "https://localhost:8080/"
        },
        "id": "1QA1IpUhtvsm",
        "outputId": "9a8cb80d-7fbd-40ff-a750-954316a8d1c4"
      },
      "outputs": [
        {
          "name": "stdout",
          "output_type": "stream",
          "text": [
            "Epoch cuda\n",
            "\n",
            "Epoch: 0\n",
            "=== Training ===\n",
            "train:   7%|▋         | 107/1628 [03:18<48:13,  1.90s/it]"
          ]
        }
      ],
      "source": [
        "import torch\n",
        "from torch.utils.tensorboard import SummaryWriter\n",
        "from torch_geometric.loader import DataLoader\n",
        "#from DataLoader import Dataset\n",
        "#from EncoderDecoder import EncodeProcessDecode\n",
        "#from Utils import L2Loss, Simulator\n",
        "#from Epoch import TrainEpoch\n",
        "\n",
        "writer = SummaryWriter(\"tensorboard\")\n",
        "\n",
        "device = torch.device(\"cuda\" if torch.cuda.is_available() else \"cpu\")\n",
        "#print(device)\n",
        "folder_path = '/content/drive/MyDrive/IDSC/4Students_AnXplore03/'\n",
        "#folder_path =\"/Users/ludoviclepic/Downloads/4Students_AnXplore03/\"\n",
        "# folder_path = '../input/anevrisme/4Students_AnXplore03/'\n",
        "dataset = Dataset(folder_path)\n",
        "\n",
        "train_loader = DataLoader(\n",
        "    dataset=dataset,\n",
        "    batch_size=5,  # Use a smaller batch size to reduce memory usage\n",
        "    shuffle=True,\n",
        "    num_workers=0,  # Reduce the number of workers to avoid semaphore issues\n",
        "    pin_memory=False,  # Pin memory to speed up data transfer to GPU\n",
        "    persistent_workers=False  # Disable persistent workers to avoid semaphore issues\n",
        ")\n",
        "\n",
        "model = EncodeProcessDecode(\n",
        "    node_input_size=6,\n",
        "    edge_input_size=3,\n",
        "    message_passing_num=5,\n",
        "    hidden_size=32,\n",
        "    node_output_size=6,\n",
        "    edge_output_size=3,\n",
        ") #\n",
        "loss = L2Loss() #\n",
        "simulator = Simulator(\n",
        "    node_input_size=6,\n",
        "    edge_input_size=3,\n",
        "    output_size=6,\n",
        "    feature_index_start=0,\n",
        "    feature_index_end=4,\n",
        "    output_index_start=0,\n",
        "    output_index_end=6,\n",
        "    node_type_index=5,\n",
        "    batch_size=5,\n",
        "    model=model,\n",
        "    device=device,\n",
        "    model_dir=\"Groupe2/checkpoint/simulator.pth\",\n",
        "    time_index=4\n",
        ") #\n",
        "optimizer = torch.optim.Adam(simulator.parameters(), lr=0.0001)\n",
        "\n",
        "train_epoch = TrainEpoch(\n",
        "    model=simulator,\n",
        "    loss=loss,\n",
        "    optimizer=optimizer,\n",
        "    parameters={},\n",
        "    device=device,\n",
        "    verbose=True,\n",
        "    starting_step=0,\n",
        "    use_sub_graph=False,\n",
        "    accumulation_steps=4  # Set accumulation steps for gradient accumulation\n",
        ")\n",
        "\n",
        "import os\n",
        "\n",
        "# Ensure the Drive folder exists\n",
        "drive_checkpoint_folder = '/content/drive/MyDrive/Groupe2/simulator_checkpoints'\n",
        "os.makedirs(drive_checkpoint_folder, exist_ok=True)\n",
        "\n",
        "for i in range(0, 15):\n",
        "    print(\"\\nEpoch: {}\".format(i))\n",
        "    print(\"=== Training ===\")\n",
        "    train_loss = train_epoch.run(train_loader, writer, \"model.pth\")\n",
        "    print(f\"Epoch {i} completed with train_loss: {train_loss}\")\n",
        "\n",
        "    # Save the model directly to Google Drive\n",
        "    model_path = f\"{drive_checkpoint_folder}/simulator_epoch_{i}.pth\"\n",
        "    torch.save(simulator.state_dict(), model_path)\n",
        "    print(f\"Model saved to {model_path}\")\n",
        "\n",
        "    writer.add_scalar(\"Loss/train/mean_value_per_epoch\", train_loss, i)\n",
        "    writer.flush()\n",
        "    writer.file_writer.flush()  # Clear the writer's logs\n",
        "\n",
        "writer.close()\n",
        "torch.cuda.empty_cache()\n",
        "gc.collect()  # Force garbage collection\n"
      ]
    },
    {
      "cell_type": "code",
      "execution_count": null,
      "metadata": {
        "id": "kHCyKdLxuOhr"
      },
      "outputs": [],
      "source": []
    }
  ],
  "metadata": {
    "accelerator": "GPU",
    "colab": {
      "gpuType": "A100",
      "machine_shape": "hm",
      "provenance": []
    },
    "kernelspec": {
      "display_name": "Python 3",
      "name": "python3"
    },
    "language_info": {
      "name": "python"
    }
  },
  "nbformat": 4,
  "nbformat_minor": 0
}
